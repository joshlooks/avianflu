{
 "cells": [
  {
   "cell_type": "code",
   "execution_count": 1,
   "metadata": {},
   "outputs": [],
   "source": [
    "# Imports\n",
    "import matplotlib.pyplot as plt\n",
    "import numpy as np\n",
    "import scipy.stats as st\n",
    "import simfromcsv\n",
    "import pickle"
   ]
  },
  {
   "cell_type": "code",
   "execution_count": 2,
   "metadata": {},
   "outputs": [
    {
     "name": "stdout",
     "output_type": "stream",
     "text": [
      "[48864571691648, 31191158121, 8607682, 1473, 0, 0]\n"
     ]
    }
   ],
   "source": [
    "# stochastic BPM model\n",
    "r = 5 # each infected cell produces r_i^2 virions of the ith mutant type\n",
    "p = 10**-5\n",
    "mu = [1, p, p**2, p**3, p**4, p**5]\n",
    "mu[0] -= np.sum(mu[1:5])\n",
    "g = 0.5\n",
    "def BPM_st(t, g, r, mu):\n",
    "    n = [1, 0, 0, 0, 0, 0]\n",
    "    i = 0 # starting time\n",
    "    while i < t:\n",
    "        i += g\n",
    "        n[0] = st.poisson.rvs(n[0]*r*mu[0])\n",
    "        n[1] = st.poisson.rvs(r*(n[1]*mu[0] + n[0]*mu[1]))\n",
    "        n[2] = st.poisson.rvs(r*(n[2]*mu[0] + n[1]*mu[1] + n[0]*mu[2]))\n",
    "        n[3] = st.poisson.rvs(r*(n[3]*mu[0] + n[2]*mu[1] + n[1]*mu[2] + n[0]*mu[3]))\n",
    "        n[4] = st.poisson.rvs(r*(n[4]*mu[0] + n[3]*mu[1] + n[2]*mu[2] + n[1]*mu[3] + n[0]*mu[4]))\n",
    "        n[5] = st.poisson.rvs(r*(n[5]*mu[0] + n[4]*mu[1] + n[3]*mu[2] + n[2]*mu[3] + n[1]*mu[4] + n[0]*mu[5]))\n",
    "    return n"
   ]
  },
  {
   "cell_type": "code",
   "execution_count": 3,
   "metadata": {},
   "outputs": [],
   "source": [
    "#Vectorised version of the BPM\n",
    "def BPM_st_vectorised(t, g, r, mu, initial_v):\n",
    "    n_list = [[initial_v, 0, 0, 0, 0, 0]]\n",
    "    i = 0 # starting time\n",
    "    count=0 #index\n",
    "    while (i <= t - g):\n",
    "        i += g\n",
    "        n = np.copy(n_list[count])\n",
    "        n_new = np.zeros(6)\n",
    "        n_new[0] = st.poisson.rvs(n[0]*r[count]*mu[0])\n",
    "        n_new[1] = st.poisson.rvs(r[count]*(n[1]*mu[0])) +  st.poisson.rvs(r[count] * (n[0]*mu[1]))\n",
    "        n_new[2] = st.poisson.rvs(r[count]*(n[2]*mu[0])) +  st.poisson.rvs(r[count] * ( n[1]*mu[1] )) +  st.poisson.rvs(r[count] * ( n[0]*mu[2]))\n",
    "        n_new[3] = st.poisson.rvs(r[count]*(n[3]*mu[0] )) +  st.poisson.rvs(r[count] * ( n[2]*mu[1] )) +  st.poisson.rvs(r[count] * ( n[1]*mu[2] )) +  st.poisson.rvs(r[count] * ( n[0]*mu[3]))\n",
    "        n_new[4] = st.poisson.rvs(r[count]*(n[4]*mu[0] )) +  st.poisson.rvs(r[count] * ( n[3]*mu[1] )) +  st.poisson.rvs(r[count] * ( n[2]*mu[2] )) +  st.poisson.rvs(r[count] * ( n[1]*mu[3] )) +  st.poisson.rvs(r[count] * ( n[0]*mu[4]))\n",
    "        n_new[5] = st.poisson.rvs(r[count]*(n[5]*mu[0] )) +  st.poisson.rvs(r[count] * ( n[4]*mu[1] )) +  st.poisson.rvs(r[count] * ( n[3]*mu[2] )) +  st.poisson.rvs(r[count] * ( n[2]*mu[3] )) +  st.poisson.rvs(r[count] * ( n[1]*mu[4] )) +  st.poisson.rvs(r[count] * ( n[0]*mu[5]))\n",
    "        count +=1\n",
    "        n_list.append(np.copy(n_new))\n",
    "        #stores the virion counts at every time point\n",
    "    return n_list"
   ]
  },
  {
   "cell_type": "code",
   "execution_count": 4,
   "metadata": {},
   "outputs": [
    {
     "name": "stdout",
     "output_type": "stream",
     "text": [
      "145.35758592462727\n"
     ]
    }
   ],
   "source": [
    "#Get the r and lifespan parameters\n",
    "g = 0.5 / 2\n",
    "params = simfromcsv.getBPMparams(g,0.2)\n",
    "Lifespans = params[0]\n",
    "r_vals = params[1]\n",
    "Deaths = params[2]\n",
    "\n",
    "np.savetxt('Results/Lifespans_lower_mortality.csv',Lifespans,delimiter=',')"
   ]
  },
  {
   "cell_type": "code",
   "execution_count": 6,
   "metadata": {},
   "outputs": [],
   "source": [
    "# Alternatively load corresponding csv files in\n",
    "Lifespans = np.genfromtxt('Results/Lifespans_lower_mortality.csv',delimiter=',')"
   ]
  },
  {
   "cell_type": "code",
   "execution_count": 8,
   "metadata": {},
   "outputs": [
    {
     "data": {
      "image/png": "[encoded data removed]",
      "text/plain": [
       "<Figure size 640x480 with 1 Axes>"
      ]
     },
     "metadata": {},
     "output_type": "display_data"
    }
   ],
   "source": [
    "#Set up plot\n",
    "fig, ax = plt.subplots()\n",
    "\n",
    "#Plot a histogram of lifespans\n",
    "ax.hist(Lifespans,bins=50,density=True,color=\"#0353A4\")\n",
    "ax.set_ylabel(\"Probability Density\",fontsize=12)\n",
    "ax.set_xlabel(\"Viral lifespan (days post infection)\",fontsize=12)\n",
    "plt.savefig('Plots/Lifespans_lower_mort.pdf', dpi=2400,bbox_inches='tight')\n",
    "plt.show()"
   ]
  }
 ],
 "metadata": {
  "kernelspec": {
   "display_name": "Python 3",
   "language": "python",
   "name": "python3"
  },
  "language_info": {
   "codemirror_mode": {
    "name": "ipython",
    "version": 3
   },
   "file_extension": ".py",
   "mimetype": "text/x-python",
   "name": "python",
   "nbconvert_exporter": "python",
   "pygments_lexer": "ipython3",
   "version": "3.11.9"
  }
 },
 "nbformat": 4,
 "nbformat_minor": 2
}
