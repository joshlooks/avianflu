{
 "cells": [
  {
   "cell_type": "code",
   "execution_count": 249,
   "metadata": {},
   "outputs": [
    {
     "name": "stdout",
     "output_type": "stream",
     "text": [
      "[95305394894686, 62017980942, 18762889, 2108, 0, 0]\n",
      "95367431640625\n"
     ]
    }
   ],
   "source": [
    "# branching process model\n",
    "# t is distribution of infection time\n",
    "# r is number of replications at each generation\n",
    "# e is error rate\n",
    "# g is rate of replication\n",
    "\n",
    "import numpy as np\n",
    "import scipy.stats as st\n",
    "\n",
    "t = 10\n",
    "g = 0.5\n",
    "r = 5\n",
    "e = 0.00005\n",
    "\n",
    "def BPM_det(t, g, r, e):\n",
    "    n = [1, 0, 0, 0, 0, 0] # number of non-mutated viruses\n",
    "    i = 0 # starting time\n",
    "    while i < t:\n",
    "        i += g\n",
    "        n = [i*r for i in n] # number of viruses\n",
    "        fourtofive = st.binom.rvs(n[4], e, size = 1)[0]\n",
    "        threetofour = st.binom.rvs(n[3], e, size = 1)[0]\n",
    "        twotothree = st.binom.rvs(n[2], e, size = 1)[0]\n",
    "        onetotwo = st.binom.rvs(n[1], e, size = 1)[0]\n",
    "        zerotoone = st.binom.rvs(n[0], e, size = 1)[0]\n",
    "        n[5] = n[5] + fourtofive\n",
    "        n[4] = n[4] + threetofour - fourtofive\n",
    "        n[3] = n[3] + twotothree - threetofour\n",
    "        n[2] = n[2] + onetotwo - twotothree\n",
    "        n[1] = n[1] + zerotoone - onetotwo\n",
    "        n[0] = n[0] - zerotoone\n",
    "    return n\n",
    "test = BPM_det(t,g,r,e)\n",
    "print(test)\n",
    "print(np.sum(test))"
   ]
  },
  {
   "cell_type": "code",
   "execution_count": 307,
   "metadata": {},
   "outputs": [
    {
     "name": "stdout",
     "output_type": "stream",
     "text": [
      "[65357792565022, 43448306561, 13855924, 1980, 0, 0]\n"
     ]
    }
   ],
   "source": [
    "# stochastic BPM model\n",
    "r = 5 # each infected cell produces r_i^2 virions of the ith mutant type\n",
    "p = 10**-5\n",
    "mu = [1, p, p**2, p**3, p**4, p**5]\n",
    "mu[0] -= np.sum(mu[1:5])\n",
    "g = 0.5\n",
    "def BPM_st(t, g, r, mu):\n",
    "    n = [1, 0, 0, 0, 0, 0]\n",
    "    i = 0 # starting time\n",
    "    while i < t:\n",
    "        i += g\n",
    "        n[0] = st.poisson.rvs(n[0]*r*mu[0])\n",
    "        n[1] = st.poisson.rvs(r*(n[1]*mu[0] + n[0]*mu[1]))\n",
    "        n[2] = st.poisson.rvs(r*(n[2]*mu[0] + n[1]*mu[1] + n[0]*mu[2]))\n",
    "        n[3] = st.poisson.rvs(r*(n[3]*mu[0] + n[2]*mu[1] + n[1]*mu[2] + n[0]*mu[3]))\n",
    "        n[4] = st.poisson.rvs(r*(n[4]*mu[0] + n[3]*mu[1] + n[2]*mu[2] + n[1]*mu[3] + n[0]*mu[4]))\n",
    "        n[5] = st.poisson.rvs(r*(n[5]*mu[0] + n[4]*mu[1] + n[3]*mu[2] + n[2]*mu[3] + n[1]*mu[4] + n[0]*mu[5]))\n",
    "    return n\n",
    "\n",
    "print(BPM_st(10, g, 5, mu))\n"
   ]
  },
  {
   "cell_type": "code",
   "execution_count": 311,
   "metadata": {},
   "outputs": [
    {
     "name": "stdout",
     "output_type": "stream",
     "text": [
      "1.52 ms ± 18 µs per loop (mean ± std. dev. of 5 runs, 1,000 loops each)\n"
     ]
    }
   ],
   "source": [
    "%%timeit -r 5 -n 1000\n",
    "BPM_st(10, g, 5, mu)"
   ]
  }
 ],
 "metadata": {
  "kernelspec": {
   "display_name": "Python 3",
   "language": "python",
   "name": "python3"
  },
  "language_info": {
   "codemirror_mode": {
    "name": "ipython",
    "version": 3
   },
   "file_extension": ".py",
   "mimetype": "text/x-python",
   "name": "python",
   "nbconvert_exporter": "python",
   "pygments_lexer": "ipython3",
   "version": "3.11.4"
  }
 },
 "nbformat": 4,
 "nbformat_minor": 2
}
