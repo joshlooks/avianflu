{
 "cells": [
  {
   "cell_type": "code",
   "execution_count": 1,
   "metadata": {},
   "outputs": [],
   "source": [
    "import numpy as np\n",
    "from Simulation import simulate\n",
    "from Models import diffusion_advection\n",
    "import pandas as pd\n",
    "import seaborn as sns\n",
    "from matplotlib import pyplot as plt\n",
    "from ABC import abc"
   ]
  },
  {
   "cell_type": "code",
   "execution_count": 8,
   "metadata": {},
   "outputs": [],
   "source": [
    "posterior = np.genfromtxt('log_7.csv',delimiter=',',skip_header=1)\n",
    "Cell_Count_U = 4e8\n",
    "Cell_Count_L = 6.25e9\n",
    "inits = np.array([Cell_Count_U, 0, 0, 1.3e3, Cell_Count_L, 0, 0, 0, 0])\n",
    "ts = np.linspace(0,10,1001)\n",
    "posterior_predictive = np.zeros((1000,1001))\n",
    "\n",
    "for i in range(len(posterior)):\n",
    "    theta = posterior[i]\n",
    "    p = [theta[0], theta[1], 4, 2, 5.2, theta[2], theta[3], theta[4], 20, 0.56*2.8e-6 / 7, 0.27 / 7, theta[5], theta[6]]\n",
    "    results = simulate.solve_model(diffusion_advection.model, inits, ts, (p,))\n",
    "    posterior_predictive[i,:] = results[:,3]\n",
    "\n",
    "np.savetxt('post_predictive.csv',posterior_predictive,delimiter=',')"
   ]
  }
 ],
 "metadata": {
  "kernelspec": {
   "display_name": "mathsysbase",
   "language": "python",
   "name": "python3"
  },
  "language_info": {
   "codemirror_mode": {
    "name": "ipython",
    "version": 3
   },
   "file_extension": ".py",
   "mimetype": "text/x-python",
   "name": "python",
   "nbconvert_exporter": "python",
   "pygments_lexer": "ipython3",
   "version": "3.11.9"
  },
  "orig_nbformat": 4
 },
 "nbformat": 4,
 "nbformat_minor": 2
}
